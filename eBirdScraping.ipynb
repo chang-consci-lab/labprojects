{
 "cells": [
  {
   "cell_type": "code",
   "execution_count": 36,
   "metadata": {},
   "outputs": [],
   "source": [
    "### Importing libraries\n",
    "import json\n",
    "import os\n",
    "import glob\n",
    "import dill\n",
    "import pandas as pd\n",
    "import numpy as np\n",
    "import csv\n",
    "from bs4 import BeautifulSoup\n",
    "import requests"
   ]
  },
  {
   "cell_type": "code",
   "execution_count": 2,
   "metadata": {},
   "outputs": [],
   "source": [
    "ruralDF = pd.read_excel(\"https://github.com/charlottehchang/BIOL104PO/blob/master/data/ruralurbancodes2013.xls?raw=true\")"
   ]
  },
  {
   "cell_type": "code",
   "execution_count": 3,
   "metadata": {},
   "outputs": [
    {
     "data": {
      "text/html": [
       "<div>\n",
       "<style scoped>\n",
       "    .dataframe tbody tr th:only-of-type {\n",
       "        vertical-align: middle;\n",
       "    }\n",
       "\n",
       "    .dataframe tbody tr th {\n",
       "        vertical-align: top;\n",
       "    }\n",
       "\n",
       "    .dataframe thead th {\n",
       "        text-align: right;\n",
       "    }\n",
       "</style>\n",
       "<table border=\"1\" class=\"dataframe\">\n",
       "  <thead>\n",
       "    <tr style=\"text-align: right;\">\n",
       "      <th></th>\n",
       "      <th>FIPS</th>\n",
       "      <th>State</th>\n",
       "      <th>County_Name</th>\n",
       "      <th>Population_2010</th>\n",
       "      <th>RUCC_2013</th>\n",
       "      <th>Description</th>\n",
       "    </tr>\n",
       "  </thead>\n",
       "  <tbody>\n",
       "    <tr>\n",
       "      <th>0</th>\n",
       "      <td>1001</td>\n",
       "      <td>AL</td>\n",
       "      <td>Autauga County</td>\n",
       "      <td>54571</td>\n",
       "      <td>2</td>\n",
       "      <td>Metro - Counties in metro areas of 250,000 to ...</td>\n",
       "    </tr>\n",
       "    <tr>\n",
       "      <th>1</th>\n",
       "      <td>1003</td>\n",
       "      <td>AL</td>\n",
       "      <td>Baldwin County</td>\n",
       "      <td>182265</td>\n",
       "      <td>3</td>\n",
       "      <td>Metro - Counties in metro areas of fewer than ...</td>\n",
       "    </tr>\n",
       "    <tr>\n",
       "      <th>2</th>\n",
       "      <td>1005</td>\n",
       "      <td>AL</td>\n",
       "      <td>Barbour County</td>\n",
       "      <td>27457</td>\n",
       "      <td>6</td>\n",
       "      <td>Nonmetro - Urban population of 2,500 to 19,999...</td>\n",
       "    </tr>\n",
       "    <tr>\n",
       "      <th>3</th>\n",
       "      <td>1007</td>\n",
       "      <td>AL</td>\n",
       "      <td>Bibb County</td>\n",
       "      <td>22915</td>\n",
       "      <td>1</td>\n",
       "      <td>Metro - Counties in metro areas of 1 million p...</td>\n",
       "    </tr>\n",
       "    <tr>\n",
       "      <th>4</th>\n",
       "      <td>1009</td>\n",
       "      <td>AL</td>\n",
       "      <td>Blount County</td>\n",
       "      <td>57322</td>\n",
       "      <td>1</td>\n",
       "      <td>Metro - Counties in metro areas of 1 million p...</td>\n",
       "    </tr>\n",
       "    <tr>\n",
       "      <th>...</th>\n",
       "      <td>...</td>\n",
       "      <td>...</td>\n",
       "      <td>...</td>\n",
       "      <td>...</td>\n",
       "      <td>...</td>\n",
       "      <td>...</td>\n",
       "    </tr>\n",
       "    <tr>\n",
       "      <th>3216</th>\n",
       "      <td>72145</td>\n",
       "      <td>PR</td>\n",
       "      <td>Vega Baja Municipio</td>\n",
       "      <td>59662</td>\n",
       "      <td>1</td>\n",
       "      <td>Metro - Counties in metro areas of 1 million p...</td>\n",
       "    </tr>\n",
       "    <tr>\n",
       "      <th>3217</th>\n",
       "      <td>72147</td>\n",
       "      <td>PR</td>\n",
       "      <td>Vieques Municipio</td>\n",
       "      <td>9301</td>\n",
       "      <td>7</td>\n",
       "      <td>Nonmetro - Urban population of 2,500 to 19,999...</td>\n",
       "    </tr>\n",
       "    <tr>\n",
       "      <th>3218</th>\n",
       "      <td>72149</td>\n",
       "      <td>PR</td>\n",
       "      <td>Villalba Municipio</td>\n",
       "      <td>26073</td>\n",
       "      <td>2</td>\n",
       "      <td>Metro - Counties in metro areas of 250,000 to ...</td>\n",
       "    </tr>\n",
       "    <tr>\n",
       "      <th>3219</th>\n",
       "      <td>72151</td>\n",
       "      <td>PR</td>\n",
       "      <td>Yabucoa Municipio</td>\n",
       "      <td>37941</td>\n",
       "      <td>1</td>\n",
       "      <td>Metro - Counties in metro areas of 1 million p...</td>\n",
       "    </tr>\n",
       "    <tr>\n",
       "      <th>3220</th>\n",
       "      <td>72153</td>\n",
       "      <td>PR</td>\n",
       "      <td>Yauco Municipio</td>\n",
       "      <td>42043</td>\n",
       "      <td>2</td>\n",
       "      <td>Metro - Counties in metro areas of 250,000 to ...</td>\n",
       "    </tr>\n",
       "  </tbody>\n",
       "</table>\n",
       "<p>3221 rows × 6 columns</p>\n",
       "</div>"
      ],
      "text/plain": [
       "       FIPS State          County_Name  Population_2010  RUCC_2013  \\\n",
       "0      1001    AL       Autauga County            54571          2   \n",
       "1      1003    AL       Baldwin County           182265          3   \n",
       "2      1005    AL       Barbour County            27457          6   \n",
       "3      1007    AL          Bibb County            22915          1   \n",
       "4      1009    AL        Blount County            57322          1   \n",
       "...     ...   ...                  ...              ...        ...   \n",
       "3216  72145    PR  Vega Baja Municipio            59662          1   \n",
       "3217  72147    PR    Vieques Municipio             9301          7   \n",
       "3218  72149    PR   Villalba Municipio            26073          2   \n",
       "3219  72151    PR    Yabucoa Municipio            37941          1   \n",
       "3220  72153    PR      Yauco Municipio            42043          2   \n",
       "\n",
       "                                            Description  \n",
       "0     Metro - Counties in metro areas of 250,000 to ...  \n",
       "1     Metro - Counties in metro areas of fewer than ...  \n",
       "2     Nonmetro - Urban population of 2,500 to 19,999...  \n",
       "3     Metro - Counties in metro areas of 1 million p...  \n",
       "4     Metro - Counties in metro areas of 1 million p...  \n",
       "...                                                 ...  \n",
       "3216  Metro - Counties in metro areas of 1 million p...  \n",
       "3217  Nonmetro - Urban population of 2,500 to 19,999...  \n",
       "3218  Metro - Counties in metro areas of 250,000 to ...  \n",
       "3219  Metro - Counties in metro areas of 1 million p...  \n",
       "3220  Metro - Counties in metro areas of 250,000 to ...  \n",
       "\n",
       "[3221 rows x 6 columns]"
      ]
     },
     "execution_count": 3,
     "metadata": {},
     "output_type": "execute_result"
    }
   ],
   "source": [
    "ruralDF"
   ]
  },
  {
   "cell_type": "code",
   "execution_count": 21,
   "metadata": {},
   "outputs": [],
   "source": [
    "ruralDF['FIPSstr'] = ruralDF.FIPS.apply(str) # ruralDF$FIPS; dplyr::select(ruralDF, FIPS)"
   ]
  },
  {
   "cell_type": "code",
   "execution_count": 22,
   "metadata": {},
   "outputs": [
    {
     "data": {
      "text/plain": [
       "0        1001\n",
       "1        1003\n",
       "2        1005\n",
       "3        1007\n",
       "4        1009\n",
       "        ...  \n",
       "3216    72145\n",
       "3217    72147\n",
       "3218    72149\n",
       "3219    72151\n",
       "3220    72153\n",
       "Name: FIPSstr, Length: 3221, dtype: object"
      ]
     },
     "execution_count": 22,
     "metadata": {},
     "output_type": "execute_result"
    }
   ],
   "source": [
    "ruralDF.FIPSstr"
   ]
  },
  {
   "cell_type": "code",
   "execution_count": 23,
   "metadata": {},
   "outputs": [
    {
     "data": {
      "text/plain": [
       "0    001\n",
       "1    003\n",
       "2    005\n",
       "3    007\n",
       "4    009\n",
       "5    011\n",
       "6    013\n",
       "7    015\n",
       "8    017\n",
       "9    019\n",
       "Name: FIPSstr, dtype: object"
      ]
     },
     "execution_count": 23,
     "metadata": {},
     "output_type": "execute_result"
    }
   ],
   "source": [
    "ruralDF.FIPSstr.str.slice(-3).iloc[:10]"
   ]
  },
  {
   "cell_type": "code",
   "execution_count": 24,
   "metadata": {},
   "outputs": [],
   "source": [
    "ruralDF['CtyFIPS'] = 'US-' + ruralDF.State + \"-\" + ruralDF.FIPSstr.str.slice(-3)"
   ]
  },
  {
   "cell_type": "code",
   "execution_count": 25,
   "metadata": {},
   "outputs": [
    {
     "data": {
      "text/plain": [
       "0       US-AL-001\n",
       "1       US-AL-003\n",
       "2       US-AL-005\n",
       "3       US-AL-007\n",
       "4       US-AL-009\n",
       "          ...    \n",
       "3216    US-PR-145\n",
       "3217    US-PR-147\n",
       "3218    US-PR-149\n",
       "3219    US-PR-151\n",
       "3220    US-PR-153\n",
       "Name: CtyFIPS, Length: 3221, dtype: object"
      ]
     },
     "execution_count": 25,
     "metadata": {},
     "output_type": "execute_result"
    }
   ],
   "source": [
    "ruralDF.CtyFIPS"
   ]
  },
  {
   "cell_type": "code",
   "execution_count": 29,
   "metadata": {},
   "outputs": [
    {
     "data": {
      "text/plain": [
       "array(['AL', 'AK', 'AZ', 'AR', 'CA', 'CO', 'CT', 'DE', 'DC', 'FL', 'GA',\n",
       "       'HI', 'ID', 'IL', 'IN', 'IA', 'KS', 'KY', 'LA', 'ME', 'MD', 'MA',\n",
       "       'MI', 'MN', 'MS', 'MO', 'MT', 'NE', 'NV', 'NH', 'NJ', 'NM', 'NY',\n",
       "       'NC', 'ND', 'OH', 'OK', 'OR', 'PA', 'RI', 'SC', 'SD', 'TN', 'TX',\n",
       "       'UT', 'VT', 'VA', 'WA', 'WV', 'WI', 'WY', 'PR'], dtype=object)"
      ]
     },
     "execution_count": 29,
     "metadata": {},
     "output_type": "execute_result"
    }
   ],
   "source": [
    "ruralDF.State.unique()"
   ]
  },
  {
   "cell_type": "code",
   "execution_count": 34,
   "metadata": {},
   "outputs": [],
   "source": [
    "### Remove Puerto Rico\n",
    "ruralDF48 = ruralDF[ruralDF.State!=\"PR\"] # dplyr::filter"
   ]
  },
  {
   "cell_type": "code",
   "execution_count": 35,
   "metadata": {},
   "outputs": [
    {
     "data": {
      "text/html": [
       "<div>\n",
       "<style scoped>\n",
       "    .dataframe tbody tr th:only-of-type {\n",
       "        vertical-align: middle;\n",
       "    }\n",
       "\n",
       "    .dataframe tbody tr th {\n",
       "        vertical-align: top;\n",
       "    }\n",
       "\n",
       "    .dataframe thead th {\n",
       "        text-align: right;\n",
       "    }\n",
       "</style>\n",
       "<table border=\"1\" class=\"dataframe\">\n",
       "  <thead>\n",
       "    <tr style=\"text-align: right;\">\n",
       "      <th></th>\n",
       "      <th>FIPS</th>\n",
       "      <th>State</th>\n",
       "      <th>County_Name</th>\n",
       "      <th>Population_2010</th>\n",
       "      <th>RUCC_2013</th>\n",
       "      <th>Description</th>\n",
       "      <th>FIPSstr</th>\n",
       "      <th>CtyFIPS</th>\n",
       "    </tr>\n",
       "  </thead>\n",
       "  <tbody>\n",
       "    <tr>\n",
       "      <th>0</th>\n",
       "      <td>1001</td>\n",
       "      <td>AL</td>\n",
       "      <td>Autauga County</td>\n",
       "      <td>54571</td>\n",
       "      <td>2</td>\n",
       "      <td>Metro - Counties in metro areas of 250,000 to ...</td>\n",
       "      <td>1001</td>\n",
       "      <td>US-AL-001</td>\n",
       "    </tr>\n",
       "    <tr>\n",
       "      <th>1</th>\n",
       "      <td>1003</td>\n",
       "      <td>AL</td>\n",
       "      <td>Baldwin County</td>\n",
       "      <td>182265</td>\n",
       "      <td>3</td>\n",
       "      <td>Metro - Counties in metro areas of fewer than ...</td>\n",
       "      <td>1003</td>\n",
       "      <td>US-AL-003</td>\n",
       "    </tr>\n",
       "    <tr>\n",
       "      <th>2</th>\n",
       "      <td>1005</td>\n",
       "      <td>AL</td>\n",
       "      <td>Barbour County</td>\n",
       "      <td>27457</td>\n",
       "      <td>6</td>\n",
       "      <td>Nonmetro - Urban population of 2,500 to 19,999...</td>\n",
       "      <td>1005</td>\n",
       "      <td>US-AL-005</td>\n",
       "    </tr>\n",
       "    <tr>\n",
       "      <th>3</th>\n",
       "      <td>1007</td>\n",
       "      <td>AL</td>\n",
       "      <td>Bibb County</td>\n",
       "      <td>22915</td>\n",
       "      <td>1</td>\n",
       "      <td>Metro - Counties in metro areas of 1 million p...</td>\n",
       "      <td>1007</td>\n",
       "      <td>US-AL-007</td>\n",
       "    </tr>\n",
       "    <tr>\n",
       "      <th>4</th>\n",
       "      <td>1009</td>\n",
       "      <td>AL</td>\n",
       "      <td>Blount County</td>\n",
       "      <td>57322</td>\n",
       "      <td>1</td>\n",
       "      <td>Metro - Counties in metro areas of 1 million p...</td>\n",
       "      <td>1009</td>\n",
       "      <td>US-AL-009</td>\n",
       "    </tr>\n",
       "    <tr>\n",
       "      <th>...</th>\n",
       "      <td>...</td>\n",
       "      <td>...</td>\n",
       "      <td>...</td>\n",
       "      <td>...</td>\n",
       "      <td>...</td>\n",
       "      <td>...</td>\n",
       "      <td>...</td>\n",
       "      <td>...</td>\n",
       "    </tr>\n",
       "    <tr>\n",
       "      <th>3138</th>\n",
       "      <td>56037</td>\n",
       "      <td>WY</td>\n",
       "      <td>Sweetwater County</td>\n",
       "      <td>43806</td>\n",
       "      <td>5</td>\n",
       "      <td>Nonmetro - Urban population of 20,000 or more,...</td>\n",
       "      <td>56037</td>\n",
       "      <td>US-WY-037</td>\n",
       "    </tr>\n",
       "    <tr>\n",
       "      <th>3139</th>\n",
       "      <td>56039</td>\n",
       "      <td>WY</td>\n",
       "      <td>Teton County</td>\n",
       "      <td>21294</td>\n",
       "      <td>7</td>\n",
       "      <td>Nonmetro - Urban population of 2,500 to 19,999...</td>\n",
       "      <td>56039</td>\n",
       "      <td>US-WY-039</td>\n",
       "    </tr>\n",
       "    <tr>\n",
       "      <th>3140</th>\n",
       "      <td>56041</td>\n",
       "      <td>WY</td>\n",
       "      <td>Uinta County</td>\n",
       "      <td>21118</td>\n",
       "      <td>7</td>\n",
       "      <td>Nonmetro - Urban population of 2,500 to 19,999...</td>\n",
       "      <td>56041</td>\n",
       "      <td>US-WY-041</td>\n",
       "    </tr>\n",
       "    <tr>\n",
       "      <th>3141</th>\n",
       "      <td>56043</td>\n",
       "      <td>WY</td>\n",
       "      <td>Washakie County</td>\n",
       "      <td>8533</td>\n",
       "      <td>7</td>\n",
       "      <td>Nonmetro - Urban population of 2,500 to 19,999...</td>\n",
       "      <td>56043</td>\n",
       "      <td>US-WY-043</td>\n",
       "    </tr>\n",
       "    <tr>\n",
       "      <th>3142</th>\n",
       "      <td>56045</td>\n",
       "      <td>WY</td>\n",
       "      <td>Weston County</td>\n",
       "      <td>7208</td>\n",
       "      <td>7</td>\n",
       "      <td>Nonmetro - Urban population of 2,500 to 19,999...</td>\n",
       "      <td>56045</td>\n",
       "      <td>US-WY-045</td>\n",
       "    </tr>\n",
       "  </tbody>\n",
       "</table>\n",
       "<p>3143 rows × 8 columns</p>\n",
       "</div>"
      ],
      "text/plain": [
       "       FIPS State        County_Name  Population_2010  RUCC_2013  \\\n",
       "0      1001    AL     Autauga County            54571          2   \n",
       "1      1003    AL     Baldwin County           182265          3   \n",
       "2      1005    AL     Barbour County            27457          6   \n",
       "3      1007    AL        Bibb County            22915          1   \n",
       "4      1009    AL      Blount County            57322          1   \n",
       "...     ...   ...                ...              ...        ...   \n",
       "3138  56037    WY  Sweetwater County            43806          5   \n",
       "3139  56039    WY       Teton County            21294          7   \n",
       "3140  56041    WY       Uinta County            21118          7   \n",
       "3141  56043    WY    Washakie County             8533          7   \n",
       "3142  56045    WY      Weston County             7208          7   \n",
       "\n",
       "                                            Description FIPSstr    CtyFIPS  \n",
       "0     Metro - Counties in metro areas of 250,000 to ...    1001  US-AL-001  \n",
       "1     Metro - Counties in metro areas of fewer than ...    1003  US-AL-003  \n",
       "2     Nonmetro - Urban population of 2,500 to 19,999...    1005  US-AL-005  \n",
       "3     Metro - Counties in metro areas of 1 million p...    1007  US-AL-007  \n",
       "4     Metro - Counties in metro areas of 1 million p...    1009  US-AL-009  \n",
       "...                                                 ...     ...        ...  \n",
       "3138  Nonmetro - Urban population of 20,000 or more,...   56037  US-WY-037  \n",
       "3139  Nonmetro - Urban population of 2,500 to 19,999...   56039  US-WY-039  \n",
       "3140  Nonmetro - Urban population of 2,500 to 19,999...   56041  US-WY-041  \n",
       "3141  Nonmetro - Urban population of 2,500 to 19,999...   56043  US-WY-043  \n",
       "3142  Nonmetro - Urban population of 2,500 to 19,999...   56045  US-WY-045  \n",
       "\n",
       "[3143 rows x 8 columns]"
      ]
     },
     "execution_count": 35,
     "metadata": {},
     "output_type": "execute_result"
    }
   ],
   "source": [
    "ruralDF48"
   ]
  },
  {
   "cell_type": "code",
   "execution_count": 38,
   "metadata": {},
   "outputs": [],
   "source": [
    "time_period=\"cur\""
   ]
  },
  {
   "cell_type": "code",
   "execution_count": 49,
   "metadata": {},
   "outputs": [
    {
     "data": {
      "text/plain": [
       "76      US-AK-105\n",
       "77      US-AK-110\n",
       "78      US-AK-122\n",
       "79      US-AK-130\n",
       "80      US-AK-150\n",
       "          ...    \n",
       "3138    US-WY-037\n",
       "3139    US-WY-039\n",
       "3140    US-WY-041\n",
       "3141    US-WY-043\n",
       "3142    US-WY-045\n",
       "Name: CtyFIPS, Length: 3067, dtype: object"
      ]
     },
     "execution_count": 49,
     "metadata": {},
     "output_type": "execute_result"
    }
   ],
   "source": [
    "ruralDF48.CtyFIPS.iloc[76:]"
   ]
  },
  {
   "cell_type": "code",
   "execution_count": 76,
   "metadata": {},
   "outputs": [],
   "source": [
    "eBirdOut = [] # eBirdOut = c()\n",
    "for ctyFIP in ruralDF48.CtyFIPS:\n",
    "    eBirdURL = f\"https://ebird.org/region/{ctyFIP}?yr={time_period}\"\n",
    "    r=requests.get(eBirdURL).text\n",
    "    soup=BeautifulSoup(r)\n",
    "    species_observed = soup.select_one(\"span[id*=speciesStat]\")\n",
    "    if species_observed is not None:\n",
    "        try:\n",
    "            species_observed = int(species_observed.text.strip())\n",
    "        except:\n",
    "            species_observed = species_observed\n",
    "    else:\n",
    "        species_observed = -999\n",
    "    checklists = soup.select_one(\"span[id*=checklistStat]\")\n",
    "    if checklists is not None:\n",
    "        try:\n",
    "            checklists = int(checklists.text.strip().replace(\",\",\"\"))\n",
    "        except:\n",
    "            checklists = checklists\n",
    "    else:\n",
    "        checklists = -999\n",
    "    hotspots = soup.select_one(\"span[id*=hotspotStat]\")\n",
    "    if hotspots is not None:\n",
    "        try:\n",
    "            hotspots = int(hotspots.text.strip())\n",
    "        except:\n",
    "            hotspots = hotspots\n",
    "    else:\n",
    "        hotspots = -999\n",
    "    eBirderCt = soup.select_one(\"span[id*=ebirdersStat]\")\n",
    "    if eBirderCt is not None:\n",
    "        try:\n",
    "            eBirderCt = int(eBirderCt.text.strip().replace(',',''))\n",
    "        except:\n",
    "            eBirderCt = eBirderCt\n",
    "    else:\n",
    "        eBirderCt = -999\n",
    "    eBirdEntry={'Species':species_observed,'Checklists':checklists,'Hotspots':hotspots,'eBirders':eBirderCt}\n",
    "    eBirdOut.append(eBirdEntry)"
   ]
  },
  {
   "cell_type": "code",
   "execution_count": 69,
   "metadata": {},
   "outputs": [
    {
     "data": {
      "text/plain": [
       "'https://ebird.org/region/US-AZ-013?yr=cur'"
      ]
     },
     "execution_count": 69,
     "metadata": {},
     "output_type": "execute_result"
    }
   ],
   "source": [
    "eBirdURL"
   ]
  },
  {
   "cell_type": "code",
   "execution_count": 57,
   "metadata": {},
   "outputs": [
    {
     "data": {
      "text/plain": [
       "12978"
      ]
     },
     "execution_count": 57,
     "metadata": {},
     "output_type": "execute_result"
    }
   ],
   "source": [
    "checklists"
   ]
  },
  {
   "cell_type": "code",
   "execution_count": 70,
   "metadata": {},
   "outputs": [
    {
     "data": {
      "text/plain": [
       "'12,978'"
      ]
     },
     "execution_count": 70,
     "metadata": {},
     "output_type": "execute_result"
    }
   ],
   "source": [
    "hotspots.text.strip()"
   ]
  },
  {
   "cell_type": "code",
   "execution_count": 59,
   "metadata": {},
   "outputs": [],
   "source": [
    "hotspots.select_one(\"span[id*=compact-number]\")"
   ]
  },
  {
   "cell_type": "code",
   "execution_count": 82,
   "metadata": {},
   "outputs": [
    {
     "data": {
      "text/plain": [
       "3143"
      ]
     },
     "execution_count": 82,
     "metadata": {},
     "output_type": "execute_result"
    }
   ],
   "source": [
    "len(eBirdOut)"
   ]
  },
  {
   "cell_type": "code",
   "execution_count": 52,
   "metadata": {},
   "outputs": [
    {
     "data": {
      "text/plain": [
       "'US-AK-105'"
      ]
     },
     "execution_count": 52,
     "metadata": {},
     "output_type": "execute_result"
    }
   ],
   "source": [
    "ctyFIP"
   ]
  },
  {
   "cell_type": "code",
   "execution_count": 77,
   "metadata": {},
   "outputs": [],
   "source": [
    "eBirdDF = pd.DataFrame(eBirdOut)"
   ]
  },
  {
   "cell_type": "code",
   "execution_count": 78,
   "metadata": {},
   "outputs": [],
   "source": [
    "eBirdDF['FIPS'] = ruralDF48.FIPS\n",
    "eBirdDF['State'] = ruralDF48.State\n",
    "eBirdDF['County'] = ruralDF48.County_Name.str.replace(' County',\"\")"
   ]
  },
  {
   "cell_type": "code",
   "execution_count": 79,
   "metadata": {},
   "outputs": [],
   "source": [
    "eBirdDF.to_csv('eBirdData.csv',index=False)"
   ]
  },
  {
   "cell_type": "code",
   "execution_count": 81,
   "metadata": {},
   "outputs": [
    {
     "name": "stdout",
     "output_type": "stream",
     "text": [
      "12,2,3,292,56027,WY,Niobrara\r\n",
      "98,396,164,4326,56029,WY,Park\r\n",
      "66,29,15,500,56031,WY,Platte\r\n",
      "74,287,32,688,56033,WY,Sheridan\r\n",
      "73,189,30,621,56035,WY,Sublette\r\n",
      "66,117,42,1104,56037,WY,Sweetwater\r\n",
      "94,509,208,6009,56039,WY,Teton\r\n",
      "57,43,15,616,56041,WY,Uinta\r\n",
      "62,224,18,228,56043,WY,Washakie\r\n",
      "68,56,10,363,56045,WY,Weston\r\n"
     ]
    }
   ],
   "source": [
    "! tail -10 eBirdData.csv"
   ]
  },
  {
   "cell_type": "code",
   "execution_count": 75,
   "metadata": {},
   "outputs": [
    {
     "data": {
      "text/html": [
       "<div>\n",
       "<style scoped>\n",
       "    .dataframe tbody tr th:only-of-type {\n",
       "        vertical-align: middle;\n",
       "    }\n",
       "\n",
       "    .dataframe tbody tr th {\n",
       "        vertical-align: top;\n",
       "    }\n",
       "\n",
       "    .dataframe thead th {\n",
       "        text-align: right;\n",
       "    }\n",
       "</style>\n",
       "<table border=\"1\" class=\"dataframe\">\n",
       "  <thead>\n",
       "    <tr style=\"text-align: right;\">\n",
       "      <th></th>\n",
       "      <th>Species</th>\n",
       "      <th>Checklists</th>\n",
       "      <th>Hotspots</th>\n",
       "      <th>eBirders</th>\n",
       "      <th>FIPS</th>\n",
       "      <th>State</th>\n",
       "      <th>County</th>\n",
       "    </tr>\n",
       "  </thead>\n",
       "  <tbody>\n",
       "    <tr>\n",
       "      <th>0</th>\n",
       "      <td>104</td>\n",
       "      <td>153</td>\n",
       "      <td>6</td>\n",
       "      <td>197</td>\n",
       "      <td>1001</td>\n",
       "      <td>AL</td>\n",
       "      <td>Autauga</td>\n",
       "    </tr>\n",
       "    <tr>\n",
       "      <th>1</th>\n",
       "      <td>243</td>\n",
       "      <td>2256</td>\n",
       "      <td>97</td>\n",
       "      <td>2763</td>\n",
       "      <td>1003</td>\n",
       "      <td>AL</td>\n",
       "      <td>Baldwin</td>\n",
       "    </tr>\n",
       "    <tr>\n",
       "      <th>2</th>\n",
       "      <td>147</td>\n",
       "      <td>179</td>\n",
       "      <td>16</td>\n",
       "      <td>556</td>\n",
       "      <td>1005</td>\n",
       "      <td>AL</td>\n",
       "      <td>Barbour</td>\n",
       "    </tr>\n",
       "    <tr>\n",
       "      <th>3</th>\n",
       "      <td>93</td>\n",
       "      <td>93</td>\n",
       "      <td>9</td>\n",
       "      <td>188</td>\n",
       "      <td>1007</td>\n",
       "      <td>AL</td>\n",
       "      <td>Bibb</td>\n",
       "    </tr>\n",
       "    <tr>\n",
       "      <th>4</th>\n",
       "      <td>52</td>\n",
       "      <td>16</td>\n",
       "      <td>4</td>\n",
       "      <td>165</td>\n",
       "      <td>1009</td>\n",
       "      <td>AL</td>\n",
       "      <td>Blount</td>\n",
       "    </tr>\n",
       "    <tr>\n",
       "      <th>5</th>\n",
       "      <td>98</td>\n",
       "      <td>97</td>\n",
       "      <td>2</td>\n",
       "      <td>161</td>\n",
       "      <td>1011</td>\n",
       "      <td>AL</td>\n",
       "      <td>Bullock</td>\n",
       "    </tr>\n",
       "    <tr>\n",
       "      <th>6</th>\n",
       "      <td>53</td>\n",
       "      <td>12</td>\n",
       "      <td>3</td>\n",
       "      <td>208</td>\n",
       "      <td>1013</td>\n",
       "      <td>AL</td>\n",
       "      <td>Butler</td>\n",
       "    </tr>\n",
       "    <tr>\n",
       "      <th>7</th>\n",
       "      <td>126</td>\n",
       "      <td>310</td>\n",
       "      <td>17</td>\n",
       "      <td>270</td>\n",
       "      <td>1015</td>\n",
       "      <td>AL</td>\n",
       "      <td>Calhoun</td>\n",
       "    </tr>\n",
       "    <tr>\n",
       "      <th>8</th>\n",
       "      <td>91</td>\n",
       "      <td>35</td>\n",
       "      <td>11</td>\n",
       "      <td>225</td>\n",
       "      <td>1017</td>\n",
       "      <td>AL</td>\n",
       "      <td>Chambers</td>\n",
       "    </tr>\n",
       "    <tr>\n",
       "      <th>9</th>\n",
       "      <td>73</td>\n",
       "      <td>66</td>\n",
       "      <td>6</td>\n",
       "      <td>180</td>\n",
       "      <td>1019</td>\n",
       "      <td>AL</td>\n",
       "      <td>Cherokee</td>\n",
       "    </tr>\n",
       "  </tbody>\n",
       "</table>\n",
       "</div>"
      ],
      "text/plain": [
       "   Species  Checklists  Hotspots  eBirders  FIPS State    County\n",
       "0      104         153         6       197  1001    AL   Autauga\n",
       "1      243        2256        97      2763  1003    AL   Baldwin\n",
       "2      147         179        16       556  1005    AL   Barbour\n",
       "3       93          93         9       188  1007    AL      Bibb\n",
       "4       52          16         4       165  1009    AL    Blount\n",
       "5       98          97         2       161  1011    AL   Bullock\n",
       "6       53          12         3       208  1013    AL    Butler\n",
       "7      126         310        17       270  1015    AL   Calhoun\n",
       "8       91          35        11       225  1017    AL  Chambers\n",
       "9       73          66         6       180  1019    AL  Cherokee"
      ]
     },
     "execution_count": 75,
     "metadata": {},
     "output_type": "execute_result"
    }
   ],
   "source": [
    "eBirdDF"
   ]
  },
  {
   "cell_type": "code",
   "execution_count": null,
   "metadata": {},
   "outputs": [],
   "source": []
  }
 ],
 "metadata": {
  "kernelspec": {
   "display_name": "Csquared",
   "language": "python",
   "name": "csquared"
  },
  "language_info": {
   "codemirror_mode": {
    "name": "ipython",
    "version": 3
   },
   "file_extension": ".py",
   "mimetype": "text/x-python",
   "name": "python",
   "nbconvert_exporter": "python",
   "pygments_lexer": "ipython3",
   "version": "3.7.7"
  }
 },
 "nbformat": 4,
 "nbformat_minor": 4
}
